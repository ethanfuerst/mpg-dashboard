{
 "cells": [
  {
   "cell_type": "code",
   "execution_count": 1,
   "metadata": {},
   "outputs": [],
   "source": [
    "import pandas as pd\n",
    "import datetime as dt\n",
    "import pandas as pd\n",
    "import matplotlib.pyplot as plt\n",
    "import plotly\n",
    "import plotly.graph_objects as go\n",
    "import plotly.io as pio\n",
    "from plotly.colors import n_colors\n",
    "import plotly.express as px\n",
    "import plotly.figure_factory as ff\n",
    "import datetime as dt\n",
    "from datetime import date, timedelta, datetime\n",
    "from mpg_refresh import mpg_data_creator, insight_creator\n",
    "df = pd.read_csv('car_mpg_data.csv')\n",
    "df = mpg_data_creator(df)\n"
   ]
  },
  {
   "cell_type": "code",
   "execution_count": 2,
   "metadata": {},
   "outputs": [
    {
     "output_type": "display_data",
     "data": {
      "application/vnd.plotly.v1+json": {
       "config": {
        "plotlyServerURL": "https://plot.ly"
       },
       "data": [
        {
         "hovertemplate": [
          "$1.92 on Jan 15 2019",
          "$1.98 on Jan 26 2019",
          "$1.94 on Feb 02 2019",
          "$1.90 on Feb 15 2019",
          "$2.06 on Feb 23 2019",
          "$1.98 on Feb 25 2019",
          "$2.30 on Mar 14 2019",
          "$2.38 on Mar 17 2019",
          "$2.47 on Mar 22 2019",
          "$2.50 on Mar 23 2019",
          "$2.35 on Mar 25 2019",
          "$2.46 on Apr 18 2019",
          "$2.40 on Apr 21 2019",
          "$2.60 on May 04 2019",
          "$2.65 on May 06 2019",
          "$2.70 on May 10 2019",
          "$2.28 on May 11 2019",
          "$2.63 on May 20 2019",
          "$2.48 on Jun 02 2019",
          "$2.40 on Jun 11 2019",
          "$2.22 on Jun 21 2019",
          "$2.50 on Jun 29 2019",
          "$2.50 on Jul 10 2019",
          "$2.50 on Jul 19 2019",
          "$2.50 on Jul 30 2019",
          "$2.50 on Aug 06 2019",
          "$2.40 on Aug 09 2019",
          "$2.40 on Aug 21 2019",
          "$2.32 on Aug 30 2019",
          "$2.40 on Sep 15 2019",
          "$2.40 on Sep 29 2019",
          "$2.40 on Oct 09 2019",
          "$2.34 on Oct 13 2019",
          "$2.25 on Oct 23 2019",
          "$2.30 on Oct 28 2019",
          "$2.20 on Nov 03 2019",
          "$2.20 on Nov 14 2019",
          "$2.10 on Nov 27 2019",
          "$2.24 on Dec 01 2019",
          "$2.30 on Dec 18 2019",
          "$2.30 on Dec 26 2019",
          "$2.15 on Jan 02 2020",
          "$2.30 on Jan 24 2020",
          "$2.04 on Feb 07 2020",
          "$2.10 on Feb 22 2020",
          "$1.70 on Mar 30 2020",
          "$1.80 on Mar 31 2020",
          "$1.55 on Apr 12 2020",
          "$1.44 on Apr 28 2020",
          "$1.55 on May 08 2020",
          "$1.60 on May 20 2020",
          "$1.60 on May 23 2020"
         ],
         "line": {
          "color": "#1A4D94"
         },
         "mode": "lines",
         "name": "Gallon cost",
         "type": "scatter",
         "x": [
          "2019-01-15T00:00:00",
          "2019-01-26T00:00:00",
          "2019-02-02T00:00:00",
          "2019-02-15T00:00:00",
          "2019-02-23T00:00:00",
          "2019-02-25T00:00:00",
          "2019-03-14T00:00:00",
          "2019-03-17T00:00:00",
          "2019-03-22T00:00:00",
          "2019-03-23T00:00:00",
          "2019-03-25T00:00:00",
          "2019-04-18T00:00:00",
          "2019-04-21T00:00:00",
          "2019-05-04T00:00:00",
          "2019-05-06T00:00:00",
          "2019-05-10T00:00:00",
          "2019-05-11T00:00:00",
          "2019-05-20T00:00:00",
          "2019-06-02T00:00:00",
          "2019-06-11T00:00:00",
          "2019-06-21T00:00:00",
          "2019-06-29T00:00:00",
          "2019-07-10T00:00:00",
          "2019-07-19T00:00:00",
          "2019-07-30T00:00:00",
          "2019-08-06T00:00:00",
          "2019-08-09T00:00:00",
          "2019-08-21T00:00:00",
          "2019-08-30T00:00:00",
          "2019-09-15T00:00:00",
          "2019-09-29T00:00:00",
          "2019-10-09T00:00:00",
          "2019-10-13T00:00:00",
          "2019-10-23T00:00:00",
          "2019-10-28T00:00:00",
          "2019-11-03T00:00:00",
          "2019-11-14T00:00:00",
          "2019-11-27T00:00:00",
          "2019-12-01T00:00:00",
          "2019-12-18T00:00:00",
          "2019-12-26T00:00:00",
          "2020-01-02T00:00:00",
          "2020-01-24T00:00:00",
          "2020-02-07T00:00:00",
          "2020-02-22T00:00:00",
          "2020-03-30T00:00:00",
          "2020-03-31T00:00:00",
          "2020-04-12T00:00:00",
          "2020-04-28T00:00:00",
          "2020-05-08T00:00:00",
          "2020-05-20T00:00:00",
          "2020-05-23T00:00:00"
         ],
         "y": [
          1.92,
          1.98,
          1.94,
          1.9,
          2.06,
          1.98,
          2.3,
          2.38,
          2.47,
          2.5,
          2.35,
          2.46,
          2.4,
          2.6,
          2.65,
          2.7,
          2.28,
          2.63,
          2.48,
          2.4,
          2.22,
          2.5,
          2.5,
          2.5,
          2.5,
          2.5,
          2.4,
          2.4,
          2.32,
          2.4,
          2.4,
          2.4,
          2.34,
          2.25,
          2.3,
          2.2,
          2.2,
          2.1,
          2.24,
          2.3,
          2.3,
          2.15,
          2.3,
          2.04,
          2.1,
          1.7,
          1.8,
          1.55,
          1.44,
          1.55,
          1.6,
          1.6
         ]
        },
        {
         "hovertemplate": [
          "$nan on Jan 15 2019",
          "$nan on Jan 26 2019",
          "$nan on Feb 02 2019",
          "$nan on Feb 15 2019",
          "$1.96 on Feb 23 2019",
          "$1.97 on Feb 25 2019",
          "$2.04 on Mar 14 2019",
          "$2.12 on Mar 17 2019",
          "$2.24 on Mar 22 2019",
          "$2.33 on Mar 23 2019",
          "$2.40 on Mar 25 2019",
          "$2.43 on Apr 18 2019",
          "$2.44 on Apr 21 2019",
          "$2.46 on May 04 2019",
          "$2.49 on May 06 2019",
          "$2.56 on May 10 2019",
          "$2.53 on May 11 2019",
          "$2.57 on May 20 2019",
          "$2.55 on Jun 02 2019",
          "$2.50 on Jun 11 2019",
          "$2.40 on Jun 21 2019",
          "$2.45 on Jun 29 2019",
          "$2.42 on Jul 10 2019",
          "$2.42 on Jul 19 2019",
          "$2.44 on Jul 30 2019",
          "$2.50 on Aug 06 2019",
          "$2.48 on Aug 09 2019",
          "$2.46 on Aug 21 2019",
          "$2.42 on Aug 30 2019",
          "$2.40 on Sep 15 2019",
          "$2.38 on Sep 29 2019",
          "$2.38 on Oct 09 2019",
          "$2.37 on Oct 13 2019",
          "$2.36 on Oct 23 2019",
          "$2.34 on Oct 28 2019",
          "$2.30 on Nov 03 2019",
          "$2.26 on Nov 14 2019",
          "$2.21 on Nov 27 2019",
          "$2.21 on Dec 01 2019",
          "$2.21 on Dec 18 2019",
          "$2.23 on Dec 26 2019",
          "$2.22 on Jan 02 2020",
          "$2.26 on Jan 24 2020",
          "$2.22 on Feb 07 2020",
          "$2.18 on Feb 22 2020",
          "$2.06 on Mar 30 2020",
          "$1.99 on Mar 31 2020",
          "$1.84 on Apr 12 2020",
          "$1.72 on Apr 28 2020",
          "$1.61 on May 08 2020",
          "$1.59 on May 20 2020",
          "$1.55 on May 23 2020"
         ],
         "line": {
          "color": "#5C7DAA"
         },
         "mode": "lines",
         "name": "Moving average",
         "type": "scatter",
         "x": [
          "2019-01-15T00:00:00",
          "2019-01-26T00:00:00",
          "2019-02-02T00:00:00",
          "2019-02-15T00:00:00",
          "2019-02-23T00:00:00",
          "2019-02-25T00:00:00",
          "2019-03-14T00:00:00",
          "2019-03-17T00:00:00",
          "2019-03-22T00:00:00",
          "2019-03-23T00:00:00",
          "2019-03-25T00:00:00",
          "2019-04-18T00:00:00",
          "2019-04-21T00:00:00",
          "2019-05-04T00:00:00",
          "2019-05-06T00:00:00",
          "2019-05-10T00:00:00",
          "2019-05-11T00:00:00",
          "2019-05-20T00:00:00",
          "2019-06-02T00:00:00",
          "2019-06-11T00:00:00",
          "2019-06-21T00:00:00",
          "2019-06-29T00:00:00",
          "2019-07-10T00:00:00",
          "2019-07-19T00:00:00",
          "2019-07-30T00:00:00",
          "2019-08-06T00:00:00",
          "2019-08-09T00:00:00",
          "2019-08-21T00:00:00",
          "2019-08-30T00:00:00",
          "2019-09-15T00:00:00",
          "2019-09-29T00:00:00",
          "2019-10-09T00:00:00",
          "2019-10-13T00:00:00",
          "2019-10-23T00:00:00",
          "2019-10-28T00:00:00",
          "2019-11-03T00:00:00",
          "2019-11-14T00:00:00",
          "2019-11-27T00:00:00",
          "2019-12-01T00:00:00",
          "2019-12-18T00:00:00",
          "2019-12-26T00:00:00",
          "2020-01-02T00:00:00",
          "2020-01-24T00:00:00",
          "2020-02-07T00:00:00",
          "2020-02-22T00:00:00",
          "2020-03-30T00:00:00",
          "2020-03-31T00:00:00",
          "2020-04-12T00:00:00",
          "2020-04-28T00:00:00",
          "2020-05-08T00:00:00",
          "2020-05-20T00:00:00",
          "2020-05-23T00:00:00"
         ],
         "y": [
          null,
          null,
          null,
          null,
          1.9600000000000002,
          1.9720000000000002,
          2.036,
          2.1239999999999997,
          2.238,
          2.3259999999999996,
          2.3999999999999995,
          2.4319999999999995,
          2.435999999999999,
          2.461999999999999,
          2.491999999999999,
          2.5619999999999994,
          2.525999999999999,
          2.5719999999999987,
          2.547999999999999,
          2.497999999999999,
          2.401999999999999,
          2.445999999999999,
          2.419999999999999,
          2.4239999999999986,
          2.4439999999999986,
          2.4999999999999987,
          2.4799999999999986,
          2.4599999999999986,
          2.4239999999999986,
          2.403999999999999,
          2.383999999999999,
          2.383999999999999,
          2.371999999999999,
          2.3579999999999988,
          2.3379999999999983,
          2.2979999999999987,
          2.2579999999999987,
          2.2099999999999986,
          2.207999999999999,
          2.2079999999999984,
          2.227999999999999,
          2.2179999999999986,
          2.2579999999999987,
          2.217999999999999,
          2.1779999999999986,
          2.0579999999999985,
          1.9879999999999984,
          1.8379999999999987,
          1.7179999999999986,
          1.6079999999999988,
          1.5879999999999987,
          1.5479999999999987
         ]
        }
       ],
       "layout": {
        "height": 400,
        "plot_bgcolor": "#cccccc",
        "showlegend": false,
        "template": {
         "data": {
          "bar": [
           {
            "error_x": {
             "color": "#2a3f5f"
            },
            "error_y": {
             "color": "#2a3f5f"
            },
            "marker": {
             "line": {
              "color": "#E5ECF6",
              "width": 0.5
             }
            },
            "type": "bar"
           }
          ],
          "barpolar": [
           {
            "marker": {
             "line": {
              "color": "#E5ECF6",
              "width": 0.5
             }
            },
            "type": "barpolar"
           }
          ],
          "carpet": [
           {
            "aaxis": {
             "endlinecolor": "#2a3f5f",
             "gridcolor": "white",
             "linecolor": "white",
             "minorgridcolor": "white",
             "startlinecolor": "#2a3f5f"
            },
            "baxis": {
             "endlinecolor": "#2a3f5f",
             "gridcolor": "white",
             "linecolor": "white",
             "minorgridcolor": "white",
             "startlinecolor": "#2a3f5f"
            },
            "type": "carpet"
           }
          ],
          "choropleth": [
           {
            "colorbar": {
             "outlinewidth": 0,
             "ticks": ""
            },
            "type": "choropleth"
           }
          ],
          "contour": [
           {
            "colorbar": {
             "outlinewidth": 0,
             "ticks": ""
            },
            "colorscale": [
             [
              0,
              "#0d0887"
             ],
             [
              0.1111111111111111,
              "#46039f"
             ],
             [
              0.2222222222222222,
              "#7201a8"
             ],
             [
              0.3333333333333333,
              "#9c179e"
             ],
             [
              0.4444444444444444,
              "#bd3786"
             ],
             [
              0.5555555555555556,
              "#d8576b"
             ],
             [
              0.6666666666666666,
              "#ed7953"
             ],
             [
              0.7777777777777778,
              "#fb9f3a"
             ],
             [
              0.8888888888888888,
              "#fdca26"
             ],
             [
              1,
              "#f0f921"
             ]
            ],
            "type": "contour"
           }
          ],
          "contourcarpet": [
           {
            "colorbar": {
             "outlinewidth": 0,
             "ticks": ""
            },
            "type": "contourcarpet"
           }
          ],
          "heatmap": [
           {
            "colorbar": {
             "outlinewidth": 0,
             "ticks": ""
            },
            "colorscale": [
             [
              0,
              "#0d0887"
             ],
             [
              0.1111111111111111,
              "#46039f"
             ],
             [
              0.2222222222222222,
              "#7201a8"
             ],
             [
              0.3333333333333333,
              "#9c179e"
             ],
             [
              0.4444444444444444,
              "#bd3786"
             ],
             [
              0.5555555555555556,
              "#d8576b"
             ],
             [
              0.6666666666666666,
              "#ed7953"
             ],
             [
              0.7777777777777778,
              "#fb9f3a"
             ],
             [
              0.8888888888888888,
              "#fdca26"
             ],
             [
              1,
              "#f0f921"
             ]
            ],
            "type": "heatmap"
           }
          ],
          "heatmapgl": [
           {
            "colorbar": {
             "outlinewidth": 0,
             "ticks": ""
            },
            "colorscale": [
             [
              0,
              "#0d0887"
             ],
             [
              0.1111111111111111,
              "#46039f"
             ],
             [
              0.2222222222222222,
              "#7201a8"
             ],
             [
              0.3333333333333333,
              "#9c179e"
             ],
             [
              0.4444444444444444,
              "#bd3786"
             ],
             [
              0.5555555555555556,
              "#d8576b"
             ],
             [
              0.6666666666666666,
              "#ed7953"
             ],
             [
              0.7777777777777778,
              "#fb9f3a"
             ],
             [
              0.8888888888888888,
              "#fdca26"
             ],
             [
              1,
              "#f0f921"
             ]
            ],
            "type": "heatmapgl"
           }
          ],
          "histogram": [
           {
            "marker": {
             "colorbar": {
              "outlinewidth": 0,
              "ticks": ""
             }
            },
            "type": "histogram"
           }
          ],
          "histogram2d": [
           {
            "colorbar": {
             "outlinewidth": 0,
             "ticks": ""
            },
            "colorscale": [
             [
              0,
              "#0d0887"
             ],
             [
              0.1111111111111111,
              "#46039f"
             ],
             [
              0.2222222222222222,
              "#7201a8"
             ],
             [
              0.3333333333333333,
              "#9c179e"
             ],
             [
              0.4444444444444444,
              "#bd3786"
             ],
             [
              0.5555555555555556,
              "#d8576b"
             ],
             [
              0.6666666666666666,
              "#ed7953"
             ],
             [
              0.7777777777777778,
              "#fb9f3a"
             ],
             [
              0.8888888888888888,
              "#fdca26"
             ],
             [
              1,
              "#f0f921"
             ]
            ],
            "type": "histogram2d"
           }
          ],
          "histogram2dcontour": [
           {
            "colorbar": {
             "outlinewidth": 0,
             "ticks": ""
            },
            "colorscale": [
             [
              0,
              "#0d0887"
             ],
             [
              0.1111111111111111,
              "#46039f"
             ],
             [
              0.2222222222222222,
              "#7201a8"
             ],
             [
              0.3333333333333333,
              "#9c179e"
             ],
             [
              0.4444444444444444,
              "#bd3786"
             ],
             [
              0.5555555555555556,
              "#d8576b"
             ],
             [
              0.6666666666666666,
              "#ed7953"
             ],
             [
              0.7777777777777778,
              "#fb9f3a"
             ],
             [
              0.8888888888888888,
              "#fdca26"
             ],
             [
              1,
              "#f0f921"
             ]
            ],
            "type": "histogram2dcontour"
           }
          ],
          "mesh3d": [
           {
            "colorbar": {
             "outlinewidth": 0,
             "ticks": ""
            },
            "type": "mesh3d"
           }
          ],
          "parcoords": [
           {
            "line": {
             "colorbar": {
              "outlinewidth": 0,
              "ticks": ""
             }
            },
            "type": "parcoords"
           }
          ],
          "pie": [
           {
            "automargin": true,
            "type": "pie"
           }
          ],
          "scatter": [
           {
            "marker": {
             "colorbar": {
              "outlinewidth": 0,
              "ticks": ""
             }
            },
            "type": "scatter"
           }
          ],
          "scatter3d": [
           {
            "line": {
             "colorbar": {
              "outlinewidth": 0,
              "ticks": ""
             }
            },
            "marker": {
             "colorbar": {
              "outlinewidth": 0,
              "ticks": ""
             }
            },
            "type": "scatter3d"
           }
          ],
          "scattercarpet": [
           {
            "marker": {
             "colorbar": {
              "outlinewidth": 0,
              "ticks": ""
             }
            },
            "type": "scattercarpet"
           }
          ],
          "scattergeo": [
           {
            "marker": {
             "colorbar": {
              "outlinewidth": 0,
              "ticks": ""
             }
            },
            "type": "scattergeo"
           }
          ],
          "scattergl": [
           {
            "marker": {
             "colorbar": {
              "outlinewidth": 0,
              "ticks": ""
             }
            },
            "type": "scattergl"
           }
          ],
          "scattermapbox": [
           {
            "marker": {
             "colorbar": {
              "outlinewidth": 0,
              "ticks": ""
             }
            },
            "type": "scattermapbox"
           }
          ],
          "scatterpolar": [
           {
            "marker": {
             "colorbar": {
              "outlinewidth": 0,
              "ticks": ""
             }
            },
            "type": "scatterpolar"
           }
          ],
          "scatterpolargl": [
           {
            "marker": {
             "colorbar": {
              "outlinewidth": 0,
              "ticks": ""
             }
            },
            "type": "scatterpolargl"
           }
          ],
          "scatterternary": [
           {
            "marker": {
             "colorbar": {
              "outlinewidth": 0,
              "ticks": ""
             }
            },
            "type": "scatterternary"
           }
          ],
          "surface": [
           {
            "colorbar": {
             "outlinewidth": 0,
             "ticks": ""
            },
            "colorscale": [
             [
              0,
              "#0d0887"
             ],
             [
              0.1111111111111111,
              "#46039f"
             ],
             [
              0.2222222222222222,
              "#7201a8"
             ],
             [
              0.3333333333333333,
              "#9c179e"
             ],
             [
              0.4444444444444444,
              "#bd3786"
             ],
             [
              0.5555555555555556,
              "#d8576b"
             ],
             [
              0.6666666666666666,
              "#ed7953"
             ],
             [
              0.7777777777777778,
              "#fb9f3a"
             ],
             [
              0.8888888888888888,
              "#fdca26"
             ],
             [
              1,
              "#f0f921"
             ]
            ],
            "type": "surface"
           }
          ],
          "table": [
           {
            "cells": {
             "fill": {
              "color": "#EBF0F8"
             },
             "line": {
              "color": "white"
             }
            },
            "header": {
             "fill": {
              "color": "#C8D4E3"
             },
             "line": {
              "color": "white"
             }
            },
            "type": "table"
           }
          ]
         },
         "layout": {
          "annotationdefaults": {
           "arrowcolor": "#2a3f5f",
           "arrowhead": 0,
           "arrowwidth": 1
          },
          "coloraxis": {
           "colorbar": {
            "outlinewidth": 0,
            "ticks": ""
           }
          },
          "colorscale": {
           "diverging": [
            [
             0,
             "#8e0152"
            ],
            [
             0.1,
             "#c51b7d"
            ],
            [
             0.2,
             "#de77ae"
            ],
            [
             0.3,
             "#f1b6da"
            ],
            [
             0.4,
             "#fde0ef"
            ],
            [
             0.5,
             "#f7f7f7"
            ],
            [
             0.6,
             "#e6f5d0"
            ],
            [
             0.7,
             "#b8e186"
            ],
            [
             0.8,
             "#7fbc41"
            ],
            [
             0.9,
             "#4d9221"
            ],
            [
             1,
             "#276419"
            ]
           ],
           "sequential": [
            [
             0,
             "#0d0887"
            ],
            [
             0.1111111111111111,
             "#46039f"
            ],
            [
             0.2222222222222222,
             "#7201a8"
            ],
            [
             0.3333333333333333,
             "#9c179e"
            ],
            [
             0.4444444444444444,
             "#bd3786"
            ],
            [
             0.5555555555555556,
             "#d8576b"
            ],
            [
             0.6666666666666666,
             "#ed7953"
            ],
            [
             0.7777777777777778,
             "#fb9f3a"
            ],
            [
             0.8888888888888888,
             "#fdca26"
            ],
            [
             1,
             "#f0f921"
            ]
           ],
           "sequentialminus": [
            [
             0,
             "#0d0887"
            ],
            [
             0.1111111111111111,
             "#46039f"
            ],
            [
             0.2222222222222222,
             "#7201a8"
            ],
            [
             0.3333333333333333,
             "#9c179e"
            ],
            [
             0.4444444444444444,
             "#bd3786"
            ],
            [
             0.5555555555555556,
             "#d8576b"
            ],
            [
             0.6666666666666666,
             "#ed7953"
            ],
            [
             0.7777777777777778,
             "#fb9f3a"
            ],
            [
             0.8888888888888888,
             "#fdca26"
            ],
            [
             1,
             "#f0f921"
            ]
           ]
          },
          "colorway": [
           "#636efa",
           "#EF553B",
           "#00cc96",
           "#ab63fa",
           "#FFA15A",
           "#19d3f3",
           "#FF6692",
           "#B6E880",
           "#FF97FF",
           "#FECB52"
          ],
          "font": {
           "color": "#2a3f5f"
          },
          "geo": {
           "bgcolor": "white",
           "lakecolor": "white",
           "landcolor": "#E5ECF6",
           "showlakes": true,
           "showland": true,
           "subunitcolor": "white"
          },
          "hoverlabel": {
           "align": "left"
          },
          "hovermode": "closest",
          "mapbox": {
           "style": "light"
          },
          "paper_bgcolor": "white",
          "plot_bgcolor": "#E5ECF6",
          "polar": {
           "angularaxis": {
            "gridcolor": "white",
            "linecolor": "white",
            "ticks": ""
           },
           "bgcolor": "#E5ECF6",
           "radialaxis": {
            "gridcolor": "white",
            "linecolor": "white",
            "ticks": ""
           }
          },
          "scene": {
           "xaxis": {
            "backgroundcolor": "#E5ECF6",
            "gridcolor": "white",
            "gridwidth": 2,
            "linecolor": "white",
            "showbackground": true,
            "ticks": "",
            "zerolinecolor": "white"
           },
           "yaxis": {
            "backgroundcolor": "#E5ECF6",
            "gridcolor": "white",
            "gridwidth": 2,
            "linecolor": "white",
            "showbackground": true,
            "ticks": "",
            "zerolinecolor": "white"
           },
           "zaxis": {
            "backgroundcolor": "#E5ECF6",
            "gridcolor": "white",
            "gridwidth": 2,
            "linecolor": "white",
            "showbackground": true,
            "ticks": "",
            "zerolinecolor": "white"
           }
          },
          "shapedefaults": {
           "line": {
            "color": "#2a3f5f"
           }
          },
          "ternary": {
           "aaxis": {
            "gridcolor": "white",
            "linecolor": "white",
            "ticks": ""
           },
           "baxis": {
            "gridcolor": "white",
            "linecolor": "white",
            "ticks": ""
           },
           "bgcolor": "#E5ECF6",
           "caxis": {
            "gridcolor": "white",
            "linecolor": "white",
            "ticks": ""
           }
          },
          "title": {
           "x": 0.05
          },
          "xaxis": {
           "automargin": true,
           "gridcolor": "white",
           "linecolor": "white",
           "ticks": "",
           "title": {
            "standoff": 15
           },
           "zerolinecolor": "white",
           "zerolinewidth": 2
          },
          "yaxis": {
           "automargin": true,
           "gridcolor": "white",
           "linecolor": "white",
           "ticks": "",
           "title": {
            "standoff": 15
           },
           "zerolinecolor": "white",
           "zerolinewidth": 2
          }
         }
        },
        "title": {
         "font": {
          "color": "#000000",
          "size": 24
         },
         "text": "Cost of a gallon of gas over time",
         "x": 0.5
        },
        "updatemenus": [
         {
          "buttons": [
           {
            "args": [
             {
              "visible": [
               true,
               false
              ]
             },
             {
              "title": "Gallon Cost"
             }
            ],
            "label": "Gallon cost",
            "method": "restyle"
           },
           {
            "args": [
             {
              "visible": [
               false,
               true
              ]
             },
             {
              "title": "Moving average"
             }
            ],
            "label": "Moving average",
            "method": "restyle"
           },
           {
            "args": [
             {
              "visible": [
               true,
               true
              ]
             }
            ],
            "label": "Both",
            "method": "restyle"
           }
          ],
          "direction": "down",
          "showactive": true,
          "type": "buttons",
          "x": 1.05,
          "xanchor": "left",
          "yanchor": "top"
         }
        ],
        "width": 1000,
        "xaxis": {
         "range": [
          "2019-01-10T00:00:00",
          "2020-05-28T00:00:00"
         ],
         "title": {
          "text": "Date"
         }
        },
        "yaxis": {
         "range": [
          1.24,
          2.9000000000000004
         ],
         "title": {
          "text": "Cost"
         }
        }
       }
      }
     },
     "metadata": {}
    }
   ],
   "source": [
    "# Format dollars to contain 2 decimal places\n",
    "# Change line colors\n",
    "# Make plot bigger\n",
    "fig = go.Figure()\n",
    "fig.add_trace(go.Scatter(x=df['date'],\n",
    "                                y=df['gal_cost'],\n",
    "                                # yaxis=dict(range=[1.2, 2.8]),\n",
    "                                mode='lines',\n",
    "                                hovertemplate='$' +  df['gal_cost'].apply(lambda x: '{:.2f}'.format(x))+ ' on ' + df['date'].dt.strftime('%b %d %Y'),\n",
    "                                name='Gallon cost',\n",
    "                                line=dict(color=\"#1A4D94\")\n",
    "))\n",
    "fig.add_trace(go.Scatter(x=df['date'],\n",
    "                                y=df['gal_cost'].rolling(window=5).mean(),\n",
    "                                # yaxis=dict(range=[1.2, 2.8]),\n",
    "                                mode='lines',\n",
    "                                hovertemplate='$' + round(df['gal_cost'].rolling(window=5).mean(),2).apply(lambda x: '{:.2f}'.format(x)) + ' on ' + df['date'].dt.strftime('%b %d %Y'),\n",
    "                                name='Moving average',\n",
    "                                line=dict(color=\"#5C7DAA\")\n",
    "))\n",
    "\n",
    "fig.update_layout(\n",
    "    showlegend=False,\n",
    "    width=1000,\n",
    "    height=400,\n",
    "    updatemenus=[\n",
    "        dict(\n",
    "            type = \"buttons\",\n",
    "            buttons=list([\n",
    "                dict(\n",
    "                    args = [{'visible': [True, False]},\n",
    "                            {'title': 'Gallon Cost'}],\n",
    "                    label=\"Gallon cost\",\n",
    "                    method=\"restyle\"\n",
    "                ),\n",
    "                dict(\n",
    "                    args = [{'visible': [False, True]},\n",
    "                            {'title': 'Moving average'}],\n",
    "                    label=\"Moving average\",\n",
    "                    method=\"restyle\"\n",
    "                ),\n",
    "                dict(\n",
    "                    args = [{'visible': [True, True]}],\n",
    "                    label=\"Both\",\n",
    "                    method=\"restyle\"\n",
    "                )\n",
    "            ]),\n",
    "            direction='down',\n",
    "            showactive=True,\n",
    "            x=1.05,\n",
    "            xanchor=\"left\",\n",
    "            yanchor=\"top\"\n",
    "        ),\n",
    "    ],\n",
    "    plot_bgcolor='#cccccc',\n",
    "    title=dict(\n",
    "        text='Cost of a gallon of gas over time',\n",
    "        font=dict(\n",
    "            size=24,\n",
    "            color='#000000'\n",
    "        ),\n",
    "        x=.5\n",
    "    ),\n",
    "    xaxis=dict(\n",
    "        title='Date',\n",
    "        range=[df['date'].min() - dt.timedelta(days=5), df['date'].max() + dt.timedelta(days=5)]\n",
    "    ),\n",
    "    yaxis=dict(\n",
    "        title='Cost',\n",
    "        range=[df['gal_cost'].min() - .2, df['gal_cost'].max() + .2]\n",
    "    )\n",
    ")\n",
    "\n",
    "fig.show()"
   ]
  },
  {
   "cell_type": "code",
   "execution_count": 3,
   "metadata": {},
   "outputs": [
    {
     "output_type": "display_data",
     "data": {
      "application/vnd.plotly.v1+json": {
       "config": {
        "plotlyServerURL": "https://plot.ly"
       },
       "data": [
        {
         "hovertemplate": [
          "22.73 on Jan 15 2019",
          "18.85 on Jan 26 2019",
          "22.04 on Feb 02 2019",
          "19.04 on Feb 15 2019",
          "20.2 on Feb 23 2019",
          "22.79 on Feb 25 2019",
          "17.9 on Mar 14 2019",
          "23.05 on Mar 17 2019",
          "24.01 on Mar 22 2019",
          "25.24 on Mar 23 2019",
          "22.0 on Mar 25 2019",
          "19.72 on Apr 18 2019",
          "20.35 on Apr 21 2019",
          "21.31 on May 04 2019",
          "22.01 on May 06 2019",
          "22.65 on May 10 2019",
          "22.53 on May 11 2019",
          "23.46 on May 20 2019",
          "23.17 on Jun 02 2019",
          "23.39 on Jun 11 2019",
          "22.61 on Jun 21 2019",
          "20.76 on Jun 29 2019",
          "21.45 on Jul 10 2019",
          "20.58 on Jul 19 2019",
          "20.96 on Jul 30 2019",
          "21.37 on Aug 06 2019",
          "23.34 on Aug 09 2019",
          "21.13 on Aug 21 2019",
          "20.81 on Aug 30 2019",
          "18.43 on Sep 15 2019",
          "18.69 on Sep 29 2019",
          "19.57 on Oct 09 2019",
          "22.16 on Oct 13 2019",
          "24.11 on Oct 23 2019",
          "22.85 on Oct 28 2019",
          "24.6 on Nov 03 2019",
          "22.24 on Nov 14 2019",
          "20.01 on Nov 27 2019",
          "25.87 on Dec 01 2019",
          "18.33 on Dec 18 2019",
          "23.73 on Dec 26 2019",
          "22.48 on Jan 02 2020",
          "21.34 on Jan 24 2020",
          "19.77 on Feb 07 2020",
          "19.61 on Feb 22 2020",
          "20.12 on Mar 30 2020",
          "26.23 on Mar 31 2020",
          "21.32 on Apr 12 2020",
          "24.02 on Apr 28 2020",
          "21.97 on May 08 2020",
          "23.77 on May 20 2020",
          "24.26 on May 23 2020"
         ],
         "line": {
          "color": "#1A4D94"
         },
         "mode": "lines",
         "name": "MPG",
         "type": "scatter",
         "x": [
          "2019-01-15T00:00:00",
          "2019-01-26T00:00:00",
          "2019-02-02T00:00:00",
          "2019-02-15T00:00:00",
          "2019-02-23T00:00:00",
          "2019-02-25T00:00:00",
          "2019-03-14T00:00:00",
          "2019-03-17T00:00:00",
          "2019-03-22T00:00:00",
          "2019-03-23T00:00:00",
          "2019-03-25T00:00:00",
          "2019-04-18T00:00:00",
          "2019-04-21T00:00:00",
          "2019-05-04T00:00:00",
          "2019-05-06T00:00:00",
          "2019-05-10T00:00:00",
          "2019-05-11T00:00:00",
          "2019-05-20T00:00:00",
          "2019-06-02T00:00:00",
          "2019-06-11T00:00:00",
          "2019-06-21T00:00:00",
          "2019-06-29T00:00:00",
          "2019-07-10T00:00:00",
          "2019-07-19T00:00:00",
          "2019-07-30T00:00:00",
          "2019-08-06T00:00:00",
          "2019-08-09T00:00:00",
          "2019-08-21T00:00:00",
          "2019-08-30T00:00:00",
          "2019-09-15T00:00:00",
          "2019-09-29T00:00:00",
          "2019-10-09T00:00:00",
          "2019-10-13T00:00:00",
          "2019-10-23T00:00:00",
          "2019-10-28T00:00:00",
          "2019-11-03T00:00:00",
          "2019-11-14T00:00:00",
          "2019-11-27T00:00:00",
          "2019-12-01T00:00:00",
          "2019-12-18T00:00:00",
          "2019-12-26T00:00:00",
          "2020-01-02T00:00:00",
          "2020-01-24T00:00:00",
          "2020-02-07T00:00:00",
          "2020-02-22T00:00:00",
          "2020-03-30T00:00:00",
          "2020-03-31T00:00:00",
          "2020-04-12T00:00:00",
          "2020-04-28T00:00:00",
          "2020-05-08T00:00:00",
          "2020-05-20T00:00:00",
          "2020-05-23T00:00:00"
         ],
         "y": [
          22.73,
          18.85,
          22.04,
          19.04,
          20.2,
          22.79,
          17.9,
          23.05,
          24.01,
          25.24,
          22,
          19.72,
          20.35,
          21.31,
          22.01,
          22.65,
          22.53,
          23.46,
          23.17,
          23.39,
          22.61,
          20.76,
          21.45,
          20.58,
          20.96,
          21.37,
          23.34,
          21.13,
          20.81,
          18.43,
          18.69,
          19.57,
          22.16,
          24.11,
          22.85,
          24.6,
          22.24,
          20.01,
          25.87,
          18.33,
          23.73,
          22.48,
          21.34,
          19.77,
          19.61,
          20.12,
          26.23,
          21.32,
          24.02,
          21.97,
          23.77,
          24.26
         ]
        },
        {
         "hovertemplate": [
          "nan on Jan 15 2019",
          "nan on Jan 26 2019",
          "nan on Feb 02 2019",
          "nan on Feb 15 2019",
          "20.57 on Feb 23 2019",
          "20.58 on Feb 25 2019",
          "20.39 on Mar 14 2019",
          "20.6 on Mar 17 2019",
          "21.59 on Mar 22 2019",
          "22.6 on Mar 23 2019",
          "22.44 on Mar 25 2019",
          "22.8 on Apr 18 2019",
          "22.26 on Apr 21 2019",
          "21.72 on May 04 2019",
          "21.08 on May 06 2019",
          "21.21 on May 10 2019",
          "21.77 on May 11 2019",
          "22.39 on May 20 2019",
          "22.76 on Jun 02 2019",
          "23.04 on Jun 11 2019",
          "23.03 on Jun 21 2019",
          "22.68 on Jun 29 2019",
          "22.28 on Jul 10 2019",
          "21.76 on Jul 19 2019",
          "21.27 on Jul 30 2019",
          "21.02 on Aug 06 2019",
          "21.54 on Aug 09 2019",
          "21.48 on Aug 21 2019",
          "21.52 on Aug 30 2019",
          "21.02 on Sep 15 2019",
          "20.48 on Sep 29 2019",
          "19.73 on Oct 09 2019",
          "19.93 on Oct 13 2019",
          "20.59 on Oct 23 2019",
          "21.48 on Oct 28 2019",
          "22.66 on Nov 03 2019",
          "23.19 on Nov 14 2019",
          "22.76 on Nov 27 2019",
          "23.11 on Dec 01 2019",
          "22.21 on Dec 18 2019",
          "22.04 on Dec 26 2019",
          "22.08 on Jan 02 2020",
          "22.35 on Jan 24 2020",
          "21.13 on Feb 07 2020",
          "21.39 on Feb 22 2020",
          "20.66 on Mar 30 2020",
          "21.41 on Mar 31 2020",
          "21.41 on Apr 12 2020",
          "22.26 on Apr 28 2020",
          "22.73 on May 08 2020",
          "23.46 on May 20 2020",
          "23.07 on May 23 2020"
         ],
         "line": {
          "color": "#5C7DAA"
         },
         "mode": "lines",
         "name": "Moving average",
         "type": "scatter",
         "x": [
          "2019-01-15T00:00:00",
          "2019-01-26T00:00:00",
          "2019-02-02T00:00:00",
          "2019-02-15T00:00:00",
          "2019-02-23T00:00:00",
          "2019-02-25T00:00:00",
          "2019-03-14T00:00:00",
          "2019-03-17T00:00:00",
          "2019-03-22T00:00:00",
          "2019-03-23T00:00:00",
          "2019-03-25T00:00:00",
          "2019-04-18T00:00:00",
          "2019-04-21T00:00:00",
          "2019-05-04T00:00:00",
          "2019-05-06T00:00:00",
          "2019-05-10T00:00:00",
          "2019-05-11T00:00:00",
          "2019-05-20T00:00:00",
          "2019-06-02T00:00:00",
          "2019-06-11T00:00:00",
          "2019-06-21T00:00:00",
          "2019-06-29T00:00:00",
          "2019-07-10T00:00:00",
          "2019-07-19T00:00:00",
          "2019-07-30T00:00:00",
          "2019-08-06T00:00:00",
          "2019-08-09T00:00:00",
          "2019-08-21T00:00:00",
          "2019-08-30T00:00:00",
          "2019-09-15T00:00:00",
          "2019-09-29T00:00:00",
          "2019-10-09T00:00:00",
          "2019-10-13T00:00:00",
          "2019-10-23T00:00:00",
          "2019-10-28T00:00:00",
          "2019-11-03T00:00:00",
          "2019-11-14T00:00:00",
          "2019-11-27T00:00:00",
          "2019-12-01T00:00:00",
          "2019-12-18T00:00:00",
          "2019-12-26T00:00:00",
          "2020-01-02T00:00:00",
          "2020-01-24T00:00:00",
          "2020-02-07T00:00:00",
          "2020-02-22T00:00:00",
          "2020-03-30T00:00:00",
          "2020-03-31T00:00:00",
          "2020-04-12T00:00:00",
          "2020-04-28T00:00:00",
          "2020-05-08T00:00:00",
          "2020-05-20T00:00:00",
          "2020-05-23T00:00:00"
         ],
         "y": [
          null,
          null,
          null,
          null,
          20.572,
          20.584,
          20.394,
          20.595999999999997,
          21.589999999999996,
          22.598,
          22.440000000000005,
          22.804000000000002,
          22.264000000000003,
          21.723999999999997,
          21.078,
          21.208,
          21.77,
          22.392000000000003,
          22.764,
          23.039999999999996,
          23.031999999999993,
          22.67799999999999,
          22.27599999999999,
          21.757999999999985,
          21.271999999999984,
          21.023999999999983,
          21.539999999999985,
          21.475999999999985,
          21.521999999999984,
          21.01599999999998,
          20.47999999999998,
          19.725999999999978,
          19.931999999999977,
          20.591999999999977,
          21.475999999999978,
          22.657999999999976,
          23.19199999999998,
          22.76199999999998,
          23.11399999999998,
          22.20999999999998,
          22.03599999999998,
          22.08399999999998,
          22.349999999999973,
          21.129999999999974,
          21.385999999999974,
          20.663999999999973,
          21.413999999999973,
          21.409999999999975,
          22.259999999999977,
          22.731999999999974,
          23.46199999999997,
          23.06799999999997
         ]
        }
       ],
       "layout": {
        "height": 400,
        "plot_bgcolor": "#cccccc",
        "showlegend": false,
        "template": {
         "data": {
          "bar": [
           {
            "error_x": {
             "color": "#2a3f5f"
            },
            "error_y": {
             "color": "#2a3f5f"
            },
            "marker": {
             "line": {
              "color": "#E5ECF6",
              "width": 0.5
             }
            },
            "type": "bar"
           }
          ],
          "barpolar": [
           {
            "marker": {
             "line": {
              "color": "#E5ECF6",
              "width": 0.5
             }
            },
            "type": "barpolar"
           }
          ],
          "carpet": [
           {
            "aaxis": {
             "endlinecolor": "#2a3f5f",
             "gridcolor": "white",
             "linecolor": "white",
             "minorgridcolor": "white",
             "startlinecolor": "#2a3f5f"
            },
            "baxis": {
             "endlinecolor": "#2a3f5f",
             "gridcolor": "white",
             "linecolor": "white",
             "minorgridcolor": "white",
             "startlinecolor": "#2a3f5f"
            },
            "type": "carpet"
           }
          ],
          "choropleth": [
           {
            "colorbar": {
             "outlinewidth": 0,
             "ticks": ""
            },
            "type": "choropleth"
           }
          ],
          "contour": [
           {
            "colorbar": {
             "outlinewidth": 0,
             "ticks": ""
            },
            "colorscale": [
             [
              0,
              "#0d0887"
             ],
             [
              0.1111111111111111,
              "#46039f"
             ],
             [
              0.2222222222222222,
              "#7201a8"
             ],
             [
              0.3333333333333333,
              "#9c179e"
             ],
             [
              0.4444444444444444,
              "#bd3786"
             ],
             [
              0.5555555555555556,
              "#d8576b"
             ],
             [
              0.6666666666666666,
              "#ed7953"
             ],
             [
              0.7777777777777778,
              "#fb9f3a"
             ],
             [
              0.8888888888888888,
              "#fdca26"
             ],
             [
              1,
              "#f0f921"
             ]
            ],
            "type": "contour"
           }
          ],
          "contourcarpet": [
           {
            "colorbar": {
             "outlinewidth": 0,
             "ticks": ""
            },
            "type": "contourcarpet"
           }
          ],
          "heatmap": [
           {
            "colorbar": {
             "outlinewidth": 0,
             "ticks": ""
            },
            "colorscale": [
             [
              0,
              "#0d0887"
             ],
             [
              0.1111111111111111,
              "#46039f"
             ],
             [
              0.2222222222222222,
              "#7201a8"
             ],
             [
              0.3333333333333333,
              "#9c179e"
             ],
             [
              0.4444444444444444,
              "#bd3786"
             ],
             [
              0.5555555555555556,
              "#d8576b"
             ],
             [
              0.6666666666666666,
              "#ed7953"
             ],
             [
              0.7777777777777778,
              "#fb9f3a"
             ],
             [
              0.8888888888888888,
              "#fdca26"
             ],
             [
              1,
              "#f0f921"
             ]
            ],
            "type": "heatmap"
           }
          ],
          "heatmapgl": [
           {
            "colorbar": {
             "outlinewidth": 0,
             "ticks": ""
            },
            "colorscale": [
             [
              0,
              "#0d0887"
             ],
             [
              0.1111111111111111,
              "#46039f"
             ],
             [
              0.2222222222222222,
              "#7201a8"
             ],
             [
              0.3333333333333333,
              "#9c179e"
             ],
             [
              0.4444444444444444,
              "#bd3786"
             ],
             [
              0.5555555555555556,
              "#d8576b"
             ],
             [
              0.6666666666666666,
              "#ed7953"
             ],
             [
              0.7777777777777778,
              "#fb9f3a"
             ],
             [
              0.8888888888888888,
              "#fdca26"
             ],
             [
              1,
              "#f0f921"
             ]
            ],
            "type": "heatmapgl"
           }
          ],
          "histogram": [
           {
            "marker": {
             "colorbar": {
              "outlinewidth": 0,
              "ticks": ""
             }
            },
            "type": "histogram"
           }
          ],
          "histogram2d": [
           {
            "colorbar": {
             "outlinewidth": 0,
             "ticks": ""
            },
            "colorscale": [
             [
              0,
              "#0d0887"
             ],
             [
              0.1111111111111111,
              "#46039f"
             ],
             [
              0.2222222222222222,
              "#7201a8"
             ],
             [
              0.3333333333333333,
              "#9c179e"
             ],
             [
              0.4444444444444444,
              "#bd3786"
             ],
             [
              0.5555555555555556,
              "#d8576b"
             ],
             [
              0.6666666666666666,
              "#ed7953"
             ],
             [
              0.7777777777777778,
              "#fb9f3a"
             ],
             [
              0.8888888888888888,
              "#fdca26"
             ],
             [
              1,
              "#f0f921"
             ]
            ],
            "type": "histogram2d"
           }
          ],
          "histogram2dcontour": [
           {
            "colorbar": {
             "outlinewidth": 0,
             "ticks": ""
            },
            "colorscale": [
             [
              0,
              "#0d0887"
             ],
             [
              0.1111111111111111,
              "#46039f"
             ],
             [
              0.2222222222222222,
              "#7201a8"
             ],
             [
              0.3333333333333333,
              "#9c179e"
             ],
             [
              0.4444444444444444,
              "#bd3786"
             ],
             [
              0.5555555555555556,
              "#d8576b"
             ],
             [
              0.6666666666666666,
              "#ed7953"
             ],
             [
              0.7777777777777778,
              "#fb9f3a"
             ],
             [
              0.8888888888888888,
              "#fdca26"
             ],
             [
              1,
              "#f0f921"
             ]
            ],
            "type": "histogram2dcontour"
           }
          ],
          "mesh3d": [
           {
            "colorbar": {
             "outlinewidth": 0,
             "ticks": ""
            },
            "type": "mesh3d"
           }
          ],
          "parcoords": [
           {
            "line": {
             "colorbar": {
              "outlinewidth": 0,
              "ticks": ""
             }
            },
            "type": "parcoords"
           }
          ],
          "pie": [
           {
            "automargin": true,
            "type": "pie"
           }
          ],
          "scatter": [
           {
            "marker": {
             "colorbar": {
              "outlinewidth": 0,
              "ticks": ""
             }
            },
            "type": "scatter"
           }
          ],
          "scatter3d": [
           {
            "line": {
             "colorbar": {
              "outlinewidth": 0,
              "ticks": ""
             }
            },
            "marker": {
             "colorbar": {
              "outlinewidth": 0,
              "ticks": ""
             }
            },
            "type": "scatter3d"
           }
          ],
          "scattercarpet": [
           {
            "marker": {
             "colorbar": {
              "outlinewidth": 0,
              "ticks": ""
             }
            },
            "type": "scattercarpet"
           }
          ],
          "scattergeo": [
           {
            "marker": {
             "colorbar": {
              "outlinewidth": 0,
              "ticks": ""
             }
            },
            "type": "scattergeo"
           }
          ],
          "scattergl": [
           {
            "marker": {
             "colorbar": {
              "outlinewidth": 0,
              "ticks": ""
             }
            },
            "type": "scattergl"
           }
          ],
          "scattermapbox": [
           {
            "marker": {
             "colorbar": {
              "outlinewidth": 0,
              "ticks": ""
             }
            },
            "type": "scattermapbox"
           }
          ],
          "scatterpolar": [
           {
            "marker": {
             "colorbar": {
              "outlinewidth": 0,
              "ticks": ""
             }
            },
            "type": "scatterpolar"
           }
          ],
          "scatterpolargl": [
           {
            "marker": {
             "colorbar": {
              "outlinewidth": 0,
              "ticks": ""
             }
            },
            "type": "scatterpolargl"
           }
          ],
          "scatterternary": [
           {
            "marker": {
             "colorbar": {
              "outlinewidth": 0,
              "ticks": ""
             }
            },
            "type": "scatterternary"
           }
          ],
          "surface": [
           {
            "colorbar": {
             "outlinewidth": 0,
             "ticks": ""
            },
            "colorscale": [
             [
              0,
              "#0d0887"
             ],
             [
              0.1111111111111111,
              "#46039f"
             ],
             [
              0.2222222222222222,
              "#7201a8"
             ],
             [
              0.3333333333333333,
              "#9c179e"
             ],
             [
              0.4444444444444444,
              "#bd3786"
             ],
             [
              0.5555555555555556,
              "#d8576b"
             ],
             [
              0.6666666666666666,
              "#ed7953"
             ],
             [
              0.7777777777777778,
              "#fb9f3a"
             ],
             [
              0.8888888888888888,
              "#fdca26"
             ],
             [
              1,
              "#f0f921"
             ]
            ],
            "type": "surface"
           }
          ],
          "table": [
           {
            "cells": {
             "fill": {
              "color": "#EBF0F8"
             },
             "line": {
              "color": "white"
             }
            },
            "header": {
             "fill": {
              "color": "#C8D4E3"
             },
             "line": {
              "color": "white"
             }
            },
            "type": "table"
           }
          ]
         },
         "layout": {
          "annotationdefaults": {
           "arrowcolor": "#2a3f5f",
           "arrowhead": 0,
           "arrowwidth": 1
          },
          "coloraxis": {
           "colorbar": {
            "outlinewidth": 0,
            "ticks": ""
           }
          },
          "colorscale": {
           "diverging": [
            [
             0,
             "#8e0152"
            ],
            [
             0.1,
             "#c51b7d"
            ],
            [
             0.2,
             "#de77ae"
            ],
            [
             0.3,
             "#f1b6da"
            ],
            [
             0.4,
             "#fde0ef"
            ],
            [
             0.5,
             "#f7f7f7"
            ],
            [
             0.6,
             "#e6f5d0"
            ],
            [
             0.7,
             "#b8e186"
            ],
            [
             0.8,
             "#7fbc41"
            ],
            [
             0.9,
             "#4d9221"
            ],
            [
             1,
             "#276419"
            ]
           ],
           "sequential": [
            [
             0,
             "#0d0887"
            ],
            [
             0.1111111111111111,
             "#46039f"
            ],
            [
             0.2222222222222222,
             "#7201a8"
            ],
            [
             0.3333333333333333,
             "#9c179e"
            ],
            [
             0.4444444444444444,
             "#bd3786"
            ],
            [
             0.5555555555555556,
             "#d8576b"
            ],
            [
             0.6666666666666666,
             "#ed7953"
            ],
            [
             0.7777777777777778,
             "#fb9f3a"
            ],
            [
             0.8888888888888888,
             "#fdca26"
            ],
            [
             1,
             "#f0f921"
            ]
           ],
           "sequentialminus": [
            [
             0,
             "#0d0887"
            ],
            [
             0.1111111111111111,
             "#46039f"
            ],
            [
             0.2222222222222222,
             "#7201a8"
            ],
            [
             0.3333333333333333,
             "#9c179e"
            ],
            [
             0.4444444444444444,
             "#bd3786"
            ],
            [
             0.5555555555555556,
             "#d8576b"
            ],
            [
             0.6666666666666666,
             "#ed7953"
            ],
            [
             0.7777777777777778,
             "#fb9f3a"
            ],
            [
             0.8888888888888888,
             "#fdca26"
            ],
            [
             1,
             "#f0f921"
            ]
           ]
          },
          "colorway": [
           "#636efa",
           "#EF553B",
           "#00cc96",
           "#ab63fa",
           "#FFA15A",
           "#19d3f3",
           "#FF6692",
           "#B6E880",
           "#FF97FF",
           "#FECB52"
          ],
          "font": {
           "color": "#2a3f5f"
          },
          "geo": {
           "bgcolor": "white",
           "lakecolor": "white",
           "landcolor": "#E5ECF6",
           "showlakes": true,
           "showland": true,
           "subunitcolor": "white"
          },
          "hoverlabel": {
           "align": "left"
          },
          "hovermode": "closest",
          "mapbox": {
           "style": "light"
          },
          "paper_bgcolor": "white",
          "plot_bgcolor": "#E5ECF6",
          "polar": {
           "angularaxis": {
            "gridcolor": "white",
            "linecolor": "white",
            "ticks": ""
           },
           "bgcolor": "#E5ECF6",
           "radialaxis": {
            "gridcolor": "white",
            "linecolor": "white",
            "ticks": ""
           }
          },
          "scene": {
           "xaxis": {
            "backgroundcolor": "#E5ECF6",
            "gridcolor": "white",
            "gridwidth": 2,
            "linecolor": "white",
            "showbackground": true,
            "ticks": "",
            "zerolinecolor": "white"
           },
           "yaxis": {
            "backgroundcolor": "#E5ECF6",
            "gridcolor": "white",
            "gridwidth": 2,
            "linecolor": "white",
            "showbackground": true,
            "ticks": "",
            "zerolinecolor": "white"
           },
           "zaxis": {
            "backgroundcolor": "#E5ECF6",
            "gridcolor": "white",
            "gridwidth": 2,
            "linecolor": "white",
            "showbackground": true,
            "ticks": "",
            "zerolinecolor": "white"
           }
          },
          "shapedefaults": {
           "line": {
            "color": "#2a3f5f"
           }
          },
          "ternary": {
           "aaxis": {
            "gridcolor": "white",
            "linecolor": "white",
            "ticks": ""
           },
           "baxis": {
            "gridcolor": "white",
            "linecolor": "white",
            "ticks": ""
           },
           "bgcolor": "#E5ECF6",
           "caxis": {
            "gridcolor": "white",
            "linecolor": "white",
            "ticks": ""
           }
          },
          "title": {
           "x": 0.05
          },
          "xaxis": {
           "automargin": true,
           "gridcolor": "white",
           "linecolor": "white",
           "ticks": "",
           "title": {
            "standoff": 15
           },
           "zerolinecolor": "white",
           "zerolinewidth": 2
          },
          "yaxis": {
           "automargin": true,
           "gridcolor": "white",
           "linecolor": "white",
           "ticks": "",
           "title": {
            "standoff": 15
           },
           "zerolinecolor": "white",
           "zerolinewidth": 2
          }
         }
        },
        "title": {
         "font": {
          "color": "#000000",
          "size": 24
         },
         "text": "Miles per gallon over time",
         "x": 0.5
        },
        "updatemenus": [
         {
          "buttons": [
           {
            "args": [
             {
              "visible": [
               true,
               false
              ]
             },
             {
              "title": "MPG"
             }
            ],
            "label": "MPG",
            "method": "restyle"
           },
           {
            "args": [
             {
              "visible": [
               false,
               true
              ]
             },
             {
              "title": "Moving average"
             }
            ],
            "label": "Moving average",
            "method": "restyle"
           },
           {
            "args": [
             {
              "visible": [
               true,
               true
              ]
             }
            ],
            "label": "Both",
            "method": "restyle"
           }
          ],
          "direction": "down",
          "showactive": true,
          "type": "buttons",
          "x": 1.05,
          "xanchor": "left",
          "yanchor": "top"
         }
        ],
        "width": 1000,
        "xaxis": {
         "range": [
          "2019-01-10T00:00:00",
          "2020-05-28T00:00:00"
         ],
         "title": {
          "text": "Date"
         }
        },
        "yaxis": {
         "range": [
          16.9,
          27.23
         ],
         "title": {
          "text": "MPG"
         }
        }
       }
      }
     },
     "metadata": {}
    }
   ],
   "source": [
    "# Change line colors\n",
    "# Make figure bigger\n",
    "fig = go.Figure()\n",
    "fig.add_trace(go.Scatter(x=df['date'],\n",
    "                                y=df['mpg'],\n",
    "                                mode='lines',\n",
    "                                hovertemplate=df['mpg'].astype(str)+ ' on ' + df['date'].dt.strftime('%b %d %Y'),\n",
    "                                name='MPG',\n",
    "                                line=dict(color=\"#1A4D94\")\n",
    "))\n",
    "fig.add_trace(go.Scatter(x=df['date'],\n",
    "                                y=df['mpg'].rolling(window=5).mean(),\n",
    "                                mode='lines',\n",
    "                                hovertemplate=round(df['mpg'].rolling(window=5).mean(),2).astype(str) + ' on ' + df['date'].dt.strftime('%b %d %Y'),\n",
    "                                name='Moving average',\n",
    "                                line=dict(color=\"#5C7DAA\")\n",
    "))\n",
    "\n",
    "fig.update_layout(\n",
    "    showlegend=False,\n",
    "    plot_bgcolor='#cccccc',\n",
    "    width=1000,\n",
    "    height=400,\n",
    "    updatemenus=[\n",
    "        dict(\n",
    "            type = \"buttons\",\n",
    "            buttons=list([\n",
    "                dict(\n",
    "                    args=[dict(visible=[True, False]),\n",
    "                            dict(title='MPG')],\n",
    "                    label=\"MPG\",\n",
    "                    method=\"restyle\"\n",
    "                ),\n",
    "                dict(\n",
    "                    args=[dict(visible=[False, True]),\n",
    "                            dict(title='Moving average')],\n",
    "                    label=\"Moving average\",\n",
    "                    method=\"restyle\"\n",
    "                ),\n",
    "                dict(\n",
    "                    args = [dict(visible=[True, True])],\n",
    "                    label=\"Both\",\n",
    "                    method=\"restyle\"\n",
    "                )\n",
    "            ]),\n",
    "            direction='down',\n",
    "            showactive=True,\n",
    "            x=1.05,\n",
    "            xanchor=\"left\",\n",
    "            yanchor=\"top\"\n",
    "        ),\n",
    "    ],\n",
    "    title=dict(\n",
    "        text='Miles per gallon over time',\n",
    "        font=dict(\n",
    "            size=24,\n",
    "            color='#000000'\n",
    "        ),\n",
    "        x=.5\n",
    "    ),\n",
    "    xaxis=dict(\n",
    "        title='Date',\n",
    "        range=[df['date'].min() - dt.timedelta(days=5), df['date'].max() + dt.timedelta(days=5)]\n",
    "    ),\n",
    "    yaxis=dict(\n",
    "        title='MPG',\n",
    "        range=[df['mpg'].min() - 1, df['mpg'].max() + 1]\n",
    "    )\n",
    ")\n",
    "\n",
    "fig.show()"
   ]
  },
  {
   "cell_type": "code",
   "execution_count": 4,
   "metadata": {},
   "outputs": [],
   "source": [
    "# moving average chart for car mpg and cost for gallon of gas\n",
    "# also chart with moving average for mpg but a mark on chart gal cost\n"
   ]
  },
  {
   "cell_type": "code",
   "execution_count": 5,
   "metadata": {},
   "outputs": [],
   "source": [
    "# mpg vs. miles driven scatter plot\n",
    "# colored by month"
   ]
  },
  {
   "cell_type": "code",
   "execution_count": 6,
   "metadata": {},
   "outputs": [],
   "source": [
    "# $ per mile vs. miles scatter plot\n",
    "# colored by month"
   ]
  },
  {
   "cell_type": "code",
   "execution_count": 7,
   "metadata": {},
   "outputs": [],
   "source": [
    "# High/low temp over a year with mpg"
   ]
  }
 ],
 "metadata": {
  "kernelspec": {
   "display_name": "Python 3.7.3 64-bit ('base': virtualenv)",
   "language": "python",
   "name": "python37364bitbasevirtualenv072981952e5e441a8413450beac594f2"
  },
  "language_info": {
   "codemirror_mode": {
    "name": "ipython",
    "version": 3
   },
   "file_extension": ".py",
   "mimetype": "text/x-python",
   "name": "python",
   "nbconvert_exporter": "python",
   "pygments_lexer": "ipython3",
   "version": "3.7.3-final"
  }
 },
 "nbformat": 4,
 "nbformat_minor": 2
}