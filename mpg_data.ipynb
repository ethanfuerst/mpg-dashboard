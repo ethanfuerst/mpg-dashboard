{
 "cells": [
  {
   "cell_type": "code",
   "execution_count": 20,
   "metadata": {},
   "outputs": [],
   "source": [
    "import pandas as pd\n",
    "import matplotlib.pyplot as plt\n",
    "%matplotlib inline\n",
    "m_data = pd.read_csv('moped_mpg_data.csv')\n",
    "m_data.name = 'Moped Data'\n",
    "c_data = pd.read_csv('car_mpg_data.csv')\n",
    "c_data.name = 'Car Data'"
   ]
  },
  {
   "cell_type": "code",
   "execution_count": 21,
   "metadata": {},
   "outputs": [],
   "source": [
    "# creating new column for how much a gallon of gas cost for each entry\n",
    "for i in [m_data, c_data]:\n",
    "    i['gal_cost'] = i.dollars / i.gallons\n",
    "    i['mpg'] = i.miles / i.gallons"
   ]
  },
  {
   "cell_type": "code",
   "execution_count": 22,
   "metadata": {},
   "outputs": [],
   "source": [
    "# creating a new column to determine what percent of my tank was used up when filled up\n",
    "# moped tank size = 1.37 gallons\n",
    "m_data['tank%_used'] = m_data['gallons'] / 1.37\n",
    "# car tank size = 13.55 gallons\n",
    "c_data['tank%_used'] = c_data['gallons'] / 13.55"
   ]
  },
  {
   "cell_type": "code",
   "execution_count": 23,
   "metadata": {},
   "outputs": [
    {
     "data": {
      "text/html": [
       "<div>\n",
       "<style scoped>\n",
       "    .dataframe tbody tr th:only-of-type {\n",
       "        vertical-align: middle;\n",
       "    }\n",
       "\n",
       "    .dataframe tbody tr th {\n",
       "        vertical-align: top;\n",
       "    }\n",
       "\n",
       "    .dataframe thead th {\n",
       "        text-align: right;\n",
       "    }\n",
       "</style>\n",
       "<table border=\"1\" class=\"dataframe\">\n",
       "  <thead>\n",
       "    <tr style=\"text-align: right;\">\n",
       "      <th></th>\n",
       "      <th>miles</th>\n",
       "      <th>gallons</th>\n",
       "      <th>dollars</th>\n",
       "      <th>date</th>\n",
       "      <th>gal_cost</th>\n",
       "      <th>mpg</th>\n",
       "      <th>tank%_used</th>\n",
       "    </tr>\n",
       "  </thead>\n",
       "  <tbody>\n",
       "    <tr>\n",
       "      <th>0</th>\n",
       "      <td>65.5</td>\n",
       "      <td>1.04</td>\n",
       "      <td>2.76</td>\n",
       "      <td>4/19/18</td>\n",
       "      <td>2.653846</td>\n",
       "      <td>62.980769</td>\n",
       "      <td>0.759124</td>\n",
       "    </tr>\n",
       "    <tr>\n",
       "      <th>1</th>\n",
       "      <td>66.0</td>\n",
       "      <td>1.03</td>\n",
       "      <td>2.77</td>\n",
       "      <td>5/3/18</td>\n",
       "      <td>2.689320</td>\n",
       "      <td>64.077670</td>\n",
       "      <td>0.751825</td>\n",
       "    </tr>\n",
       "    <tr>\n",
       "      <th>2</th>\n",
       "      <td>61.2</td>\n",
       "      <td>0.89</td>\n",
       "      <td>2.52</td>\n",
       "      <td>5/16/18</td>\n",
       "      <td>2.831461</td>\n",
       "      <td>68.764045</td>\n",
       "      <td>0.649635</td>\n",
       "    </tr>\n",
       "    <tr>\n",
       "      <th>3</th>\n",
       "      <td>63.0</td>\n",
       "      <td>0.94</td>\n",
       "      <td>2.39</td>\n",
       "      <td>6/28/18</td>\n",
       "      <td>2.542553</td>\n",
       "      <td>67.021277</td>\n",
       "      <td>0.686131</td>\n",
       "    </tr>\n",
       "    <tr>\n",
       "      <th>4</th>\n",
       "      <td>69.4</td>\n",
       "      <td>0.98</td>\n",
       "      <td>2.71</td>\n",
       "      <td>7/25/18</td>\n",
       "      <td>2.765306</td>\n",
       "      <td>70.816327</td>\n",
       "      <td>0.715328</td>\n",
       "    </tr>\n",
       "  </tbody>\n",
       "</table>\n",
       "</div>"
      ],
      "text/plain": [
       "   miles  gallons  dollars     date  gal_cost        mpg  tank%_used\n",
       "0   65.5     1.04     2.76  4/19/18  2.653846  62.980769    0.759124\n",
       "1   66.0     1.03     2.77   5/3/18  2.689320  64.077670    0.751825\n",
       "2   61.2     0.89     2.52  5/16/18  2.831461  68.764045    0.649635\n",
       "3   63.0     0.94     2.39  6/28/18  2.542553  67.021277    0.686131\n",
       "4   69.4     0.98     2.71  7/25/18  2.765306  70.816327    0.715328"
      ]
     },
     "execution_count": 23,
     "metadata": {},
     "output_type": "execute_result"
    }
   ],
   "source": [
    "m_data.head()"
   ]
  },
  {
   "cell_type": "code",
   "execution_count": 24,
   "metadata": {},
   "outputs": [
    {
     "data": {
      "text/html": [
       "<div>\n",
       "<style scoped>\n",
       "    .dataframe tbody tr th:only-of-type {\n",
       "        vertical-align: middle;\n",
       "    }\n",
       "\n",
       "    .dataframe tbody tr th {\n",
       "        vertical-align: top;\n",
       "    }\n",
       "\n",
       "    .dataframe thead th {\n",
       "        text-align: right;\n",
       "    }\n",
       "</style>\n",
       "<table border=\"1\" class=\"dataframe\">\n",
       "  <thead>\n",
       "    <tr style=\"text-align: right;\">\n",
       "      <th></th>\n",
       "      <th>miles</th>\n",
       "      <th>dollars</th>\n",
       "      <th>gallons</th>\n",
       "      <th>date</th>\n",
       "      <th>gal_cost</th>\n",
       "      <th>mpg</th>\n",
       "      <th>tank%_used</th>\n",
       "    </tr>\n",
       "  </thead>\n",
       "  <tbody>\n",
       "    <tr>\n",
       "      <th>0</th>\n",
       "      <td>253.2</td>\n",
       "      <td>21.37</td>\n",
       "      <td>11.138</td>\n",
       "      <td>1/15/19</td>\n",
       "      <td>1.918657</td>\n",
       "      <td>22.732986</td>\n",
       "      <td>0.821993</td>\n",
       "    </tr>\n",
       "    <tr>\n",
       "      <th>1</th>\n",
       "      <td>211.9</td>\n",
       "      <td>22.24</td>\n",
       "      <td>11.239</td>\n",
       "      <td>1/26/19</td>\n",
       "      <td>1.978824</td>\n",
       "      <td>18.853991</td>\n",
       "      <td>0.829446</td>\n",
       "    </tr>\n",
       "    <tr>\n",
       "      <th>2</th>\n",
       "      <td>258.1</td>\n",
       "      <td>22.70</td>\n",
       "      <td>11.708</td>\n",
       "      <td>2/2/19</td>\n",
       "      <td>1.938845</td>\n",
       "      <td>22.044756</td>\n",
       "      <td>0.864059</td>\n",
       "    </tr>\n",
       "    <tr>\n",
       "      <th>3</th>\n",
       "      <td>223.0</td>\n",
       "      <td>22.24</td>\n",
       "      <td>11.713</td>\n",
       "      <td>2/15/19</td>\n",
       "      <td>1.898745</td>\n",
       "      <td>19.038675</td>\n",
       "      <td>0.864428</td>\n",
       "    </tr>\n",
       "    <tr>\n",
       "      <th>4</th>\n",
       "      <td>229.7</td>\n",
       "      <td>23.41</td>\n",
       "      <td>11.369</td>\n",
       "      <td>2/23/19</td>\n",
       "      <td>2.059108</td>\n",
       "      <td>20.204064</td>\n",
       "      <td>0.839041</td>\n",
       "    </tr>\n",
       "  </tbody>\n",
       "</table>\n",
       "</div>"
      ],
      "text/plain": [
       "   miles  dollars  gallons     date  gal_cost        mpg  tank%_used\n",
       "0  253.2    21.37   11.138  1/15/19  1.918657  22.732986    0.821993\n",
       "1  211.9    22.24   11.239  1/26/19  1.978824  18.853991    0.829446\n",
       "2  258.1    22.70   11.708   2/2/19  1.938845  22.044756    0.864059\n",
       "3  223.0    22.24   11.713  2/15/19  1.898745  19.038675    0.864428\n",
       "4  229.7    23.41   11.369  2/23/19  2.059108  20.204064    0.839041"
      ]
     },
     "execution_count": 24,
     "metadata": {},
     "output_type": "execute_result"
    }
   ],
   "source": [
    "c_data.head()"
   ]
  },
  {
   "cell_type": "code",
   "execution_count": 25,
   "metadata": {},
   "outputs": [
    {
     "name": "stdout",
     "output_type": "stream",
     "text": [
      "Moped Data:\n",
      "Total miles: 1385.8 miles\n",
      "Total spent on gas: $51.82\n",
      "Total gallons pumped: 20.04 gallons\n",
      "Miles per gallon: 69.16\n",
      "Average cost of one gallon of gas: $2.59\n",
      "Cost to go one mile: $0.04\n",
      "\n",
      "Car Data:\n",
      "Total miles: 5877.6 miles\n",
      "Total spent on gas: $632.29\n",
      "Total gallons pumped: 270.89 gallons\n",
      "Miles per gallon: 21.7\n",
      "Average cost of one gallon of gas: $2.33\n",
      "Cost to go one mile: $0.11\n",
      "\n"
     ]
    }
   ],
   "source": [
    "for i in [m_data, c_data]:\n",
    "    print(i.name + ':')\n",
    "    print(\"Total miles: \" + str(round(sum(i.miles), 2)) + \" miles\")\n",
    "    print(\"Total spent on gas: $\" + str(round(sum(i.dollars), 2 )))\n",
    "    print(\"Total gallons pumped: \" + str(round(sum(i.gallons), 2)) + \" gallons\")\n",
    "    print(\"Miles per gallon: \" + str(round(sum(i.miles)/sum(i.gallons), 2)))\n",
    "    print(\"Average cost of one gallon of gas: $\" + str(round(sum(i.dollars)/sum(i.gallons), 2)))\n",
    "    print(\"Cost to go one mile: $\" + str(round(sum(i.dollars)/sum(i.miles), 2)))\n",
    "    print()"
   ]
  },
  {
   "cell_type": "code",
   "execution_count": null,
   "metadata": {},
   "outputs": [],
   "source": []
  },
  {
   "cell_type": "code",
   "execution_count": 37,
   "metadata": {},
   "outputs": [
    {
     "data": {
      "image/png": "[encoded data removed]",
      "text/plain": [
       "<Figure size 1440x720 with 1 Axes>"
      ]
     },
     "metadata": {
      "needs_background": "light"
     },
     "output_type": "display_data"
    }
   ],
   "source": [
    "plt.figure(figsize=(20,10))\n",
    "plt.plot(c_data['date'], c_data['gal_cost'], 'r')\n",
    "plt.xlabel('Date')\n",
    "plt.ylabel('Gallons')\n",
    "plt.title('Gallons vs. Time')\n",
    "plt.show()"
   ]
  },
  {
   "cell_type": "code",
   "execution_count": 28,
   "metadata": {},
   "outputs": [],
   "source": [
    "# use timestamps for something\n",
    "    # type in t for total, m for month, y for year, w for week etc\n",
    "# moving average chart for car mpg and cost for gallon of gas\n",
    "# also chart with moving average for mpg but a mark on chart gal cost"
   ]
  },
  {
   "cell_type": "code",
   "execution_count": null,
   "metadata": {},
   "outputs": [],
   "source": []
  }
 ],
 "metadata": {
  "kernelspec": {
   "display_name": "Python 3",
   "language": "python",
   "name": "python3"
  },
  "language_info": {
   "codemirror_mode": {
    "name": "ipython",
    "version": 3
   },
   "file_extension": ".py",
   "mimetype": "text/x-python",
   "name": "python",
   "nbconvert_exporter": "python",
   "pygments_lexer": "ipython3",
   "version": "3.6.6"
  }
 },
 "nbformat": 4,
 "nbformat_minor": 2
}
