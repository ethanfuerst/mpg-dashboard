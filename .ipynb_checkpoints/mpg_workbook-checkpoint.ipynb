{
 "cells": [
  {
   "cell_type": "code",
   "execution_count": 1,
   "metadata": {},
   "outputs": [],
   "source": [
    "import pandas as pd\n",
    "import matplotlib.pyplot as plt\n",
    "import datetime as dt\n",
    "from datetime import date, timedelta, datetime\n",
    "import urllib.request, json \n",
    "import os\n",
    "%matplotlib inline\n",
    "df_m = pd.read_csv('clean_m_data.csv', index_col = 0, parse_dates = ['date'])\n",
    "df_m.name = 'Moped Data'\n",
    "df_c = pd.read_csv('clean_c_data.csv', index_col = 0, parse_dates = ['date'])\n",
    "df_c.name = 'Car Data'"
   ]
  },
  {
   "cell_type": "code",
   "execution_count": 2,
   "metadata": {},
   "outputs": [],
   "source": [
    "# https://darksky.net/dev/docs requests I keep my key hidden\n",
    "# Going back a directory to access darkskyid.txt and save as my_id\n",
    "os.chdir(\"..\")\n",
    "my_id = open('darkskyid.txt', 'r').read()\n",
    "# Going back to original directory\n",
    "os.chdir(\"/Users/ethanfuerst/Documents/Coding/mpgdata\")"
   ]
  },
  {
   "cell_type": "code",
   "execution_count": 3,
   "metadata": {},
   "outputs": [
    {
     "name": "stdout",
     "output_type": "stream",
     "text": [
      "0:01:16.758746\n"
     ]
    }
   ],
   "source": [
    "startTime = datetime.now()\n",
    "\n",
    "# creating a range of dates to get - shoutout date.today()\n",
    "sdate = date(2019, 1, 1)   # start date - Jan 1 2019\n",
    "edate = date.today()       # today\n",
    "\n",
    "delta = edate - sdate       # as timedelta\n",
    "\n",
    "# creating a list for each day in the range\n",
    "# using unix time because that's what the darksky api uses\n",
    "# each date will give me the unix time at 6pm for that day\n",
    "# the daily_high and daily_low are the parameters that I will use to see how my mpg changes\n",
    "date_list = []\n",
    "for i in range(1, delta.days + 1):\n",
    "    day = sdate + timedelta(days=i)\n",
    "    date_list.append(int((day - dt.date(1970,1,1)).total_seconds()))\n",
    "\n",
    "# creating a list for each api call\n",
    "api_list = []\n",
    "for i in date_list:\n",
    "    api_list.append('https://api.darksky.net/forecast/'+my_id+'/30.267153,-97.7430608,'+str(i)+'?exclude=flags,hourly')\n",
    "\n",
    "# getting the high temp and low temp for each day\n",
    "date = []\n",
    "daily_high = []\n",
    "daily_low = []\n",
    "for api in api_list:\n",
    "    with urllib.request.urlopen(api) as url:\n",
    "        data = json.loads(url.read().decode())\n",
    "        # keeping day in yyyymmdd format, just like in other dataframes\n",
    "        date.append(datetime.fromtimestamp(data[\"currently\"][\"time\"]).strftime(\"20%y%m%d\"))\n",
    "        daily_high.append(data[\"daily\"][\"data\"][0][\"temperatureHigh\"])\n",
    "        daily_low.append(data[\"daily\"][\"data\"][0][\"temperatureLow\"])\n",
    "\n",
    "# putting all the lists in to a dateframe\n",
    "df = pd.DataFrame({'date': date, 'daily_high': daily_high, 'daily_low': daily_low})\n",
    "print(datetime.now() - startTime)"
   ]
  },
  {
   "cell_type": "code",
   "execution_count": 7,
   "metadata": {},
   "outputs": [
    {
     "data": {
      "text/html": [
       "<div>\n",
       "<style scoped>\n",
       "    .dataframe tbody tr th:only-of-type {\n",
       "        vertical-align: middle;\n",
       "    }\n",
       "\n",
       "    .dataframe tbody tr th {\n",
       "        vertical-align: top;\n",
       "    }\n",
       "\n",
       "    .dataframe thead th {\n",
       "        text-align: right;\n",
       "    }\n",
       "</style>\n",
       "<table border=\"1\" class=\"dataframe\">\n",
       "  <thead>\n",
       "    <tr style=\"text-align: right;\">\n",
       "      <th></th>\n",
       "      <th>date</th>\n",
       "      <th>daily_high</th>\n",
       "      <th>daily_low</th>\n",
       "    </tr>\n",
       "  </thead>\n",
       "  <tbody>\n",
       "    <tr>\n",
       "      <td>0</td>\n",
       "      <td>20190101</td>\n",
       "      <td>44.06</td>\n",
       "      <td>36.19</td>\n",
       "    </tr>\n",
       "    <tr>\n",
       "      <td>1</td>\n",
       "      <td>20190102</td>\n",
       "      <td>38.21</td>\n",
       "      <td>37.11</td>\n",
       "    </tr>\n",
       "    <tr>\n",
       "      <td>2</td>\n",
       "      <td>20190103</td>\n",
       "      <td>51.97</td>\n",
       "      <td>32.93</td>\n",
       "    </tr>\n",
       "    <tr>\n",
       "      <td>3</td>\n",
       "      <td>20190104</td>\n",
       "      <td>66.27</td>\n",
       "      <td>34.09</td>\n",
       "    </tr>\n",
       "    <tr>\n",
       "      <td>4</td>\n",
       "      <td>20190105</td>\n",
       "      <td>73.25</td>\n",
       "      <td>41.23</td>\n",
       "    </tr>\n",
       "    <tr>\n",
       "      <td>5</td>\n",
       "      <td>20190106</td>\n",
       "      <td>72.45</td>\n",
       "      <td>63.24</td>\n",
       "    </tr>\n",
       "    <tr>\n",
       "      <td>6</td>\n",
       "      <td>20190107</td>\n",
       "      <td>75.88</td>\n",
       "      <td>54.82</td>\n",
       "    </tr>\n",
       "    <tr>\n",
       "      <td>7</td>\n",
       "      <td>20190108</td>\n",
       "      <td>75.97</td>\n",
       "      <td>50.35</td>\n",
       "    </tr>\n",
       "    <tr>\n",
       "      <td>8</td>\n",
       "      <td>20190109</td>\n",
       "      <td>61.26</td>\n",
       "      <td>41.83</td>\n",
       "    </tr>\n",
       "    <tr>\n",
       "      <td>9</td>\n",
       "      <td>20190110</td>\n",
       "      <td>60.29</td>\n",
       "      <td>47.06</td>\n",
       "    </tr>\n",
       "  </tbody>\n",
       "</table>\n",
       "</div>"
      ],
      "text/plain": [
       "       date  daily_high  daily_low\n",
       "0  20190101       44.06      36.19\n",
       "1  20190102       38.21      37.11\n",
       "2  20190103       51.97      32.93\n",
       "3  20190104       66.27      34.09\n",
       "4  20190105       73.25      41.23\n",
       "5  20190106       72.45      63.24\n",
       "6  20190107       75.88      54.82\n",
       "7  20190108       75.97      50.35\n",
       "8  20190109       61.26      41.83\n",
       "9  20190110       60.29      47.06"
      ]
     },
     "execution_count": 7,
     "metadata": {},
     "output_type": "execute_result"
    }
   ],
   "source": [
    "# date_list\n",
    "df.head(10)\n",
    "# I want to group these by 5 consecutive and send averages"
   ]
  },
  {
   "cell_type": "code",
   "execution_count": null,
   "metadata": {},
   "outputs": [],
   "source": []
  }
 ],
 "metadata": {
  "kernelspec": {
   "display_name": "Python 3",
   "language": "python",
   "name": "python3"
  },
  "language_info": {
   "codemirror_mode": {
    "name": "ipython",
    "version": 3
   },
   "file_extension": ".py",
   "mimetype": "text/x-python",
   "name": "python",
   "nbconvert_exporter": "python",
   "pygments_lexer": "ipython3",
   "version": "3.7.4"
  }
 },
 "nbformat": 4,
 "nbformat_minor": 2
}
