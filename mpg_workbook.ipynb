{
 "cells": [
  {
   "cell_type": "code",
   "execution_count": 1,
   "metadata": {},
   "outputs": [],
   "source": [
    "import pandas as pd\n",
    "import datetime as dt\n",
    "import pandas as pd\n",
    "import matplotlib.pyplot as plt\n",
    "import datetime as dt\n",
    "from datetime import date, timedelta, datetime\n",
    "import urllib.request, json, os, itertools, threading, time, sys\n",
    "%matplotlib inline\n",
    "df_m = pd.read_csv('clean_m_data.csv', index_col = 0, parse_dates = ['date'])\n",
    "df_m.name = 'Moped Data'\n",
    "df_c = pd.read_csv('clean_c_data.csv', index_col = 0, parse_dates = ['date'])\n",
    "df_c.name = 'Car Data'\n",
    "df_w = pd.read_csv('weather_data.csv', index_col = 0, parse_dates = ['date'])\n",
    "df_w.name = 'Weather Data'"
   ]
  },
  {
   "cell_type": "code",
   "execution_count": null,
   "metadata": {},
   "outputs": [],
   "source": []
  }
 ],
 "metadata": {
  "kernelspec": {
   "display_name": "Python 3",
   "language": "python",
   "name": "python3"
  },
  "language_info": {
   "codemirror_mode": {
    "name": "ipython",
    "version": 3
   },
   "file_extension": ".py",
   "mimetype": "text/x-python",
   "name": "python",
   "nbconvert_exporter": "python",
   "pygments_lexer": "ipython3",
   "version": "3.7.4"
  }
 },
 "nbformat": 4,
 "nbformat_minor": 2
}
