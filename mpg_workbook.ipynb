{
 "cells": [
  {
   "cell_type": "code",
   "execution_count": 2,
   "metadata": {},
   "outputs": [],
   "source": [
    "import pandas as pd\n",
    "import matplotlib.pyplot as plt\n",
    "import datetime as dt\n",
    "%matplotlib inline\n",
    "df_m = pd.read_csv('clean_m_data.csv',index_col = 0)\n",
    "df_m.name = 'Moped Data'\n",
    "df_c = pd.read_csv('clean_c_data.csv',index_col = 0)\n",
    "df_c.name = 'Car Data'\n",
    "df = pd.read_csv('clean_all_data.csv', index_col = 0)"
   ]
  },
  {
   "cell_type": "code",
   "execution_count": 5,
   "metadata": {},
   "outputs": [
    {
     "data": {
      "text/html": [
       "<div>\n",
       "<style scoped>\n",
       "    .dataframe tbody tr th:only-of-type {\n",
       "        vertical-align: middle;\n",
       "    }\n",
       "\n",
       "    .dataframe tbody tr th {\n",
       "        vertical-align: top;\n",
       "    }\n",
       "\n",
       "    .dataframe thead th {\n",
       "        text-align: right;\n",
       "    }\n",
       "</style>\n",
       "<table border=\"1\" class=\"dataframe\">\n",
       "  <thead>\n",
       "    <tr style=\"text-align: right;\">\n",
       "      <th></th>\n",
       "      <th>miles</th>\n",
       "      <th>dollars</th>\n",
       "      <th>gallons</th>\n",
       "      <th>date</th>\n",
       "      <th>gal_cost</th>\n",
       "      <th>mpg</th>\n",
       "      <th>tank%_used</th>\n",
       "      <th>day</th>\n",
       "    </tr>\n",
       "  </thead>\n",
       "  <tbody>\n",
       "    <tr>\n",
       "      <td>24</td>\n",
       "      <td>237.2</td>\n",
       "      <td>28.28</td>\n",
       "      <td>11.317</td>\n",
       "      <td>7/30/19</td>\n",
       "      <td>2.498895</td>\n",
       "      <td>20.959618</td>\n",
       "      <td>0.835203</td>\n",
       "      <td>Tuesday</td>\n",
       "    </tr>\n",
       "    <tr>\n",
       "      <td>25</td>\n",
       "      <td>241.7</td>\n",
       "      <td>28.27</td>\n",
       "      <td>11.312</td>\n",
       "      <td>8/6/19</td>\n",
       "      <td>2.499116</td>\n",
       "      <td>21.366690</td>\n",
       "      <td>0.834834</td>\n",
       "      <td>Tuesday</td>\n",
       "    </tr>\n",
       "    <tr>\n",
       "      <td>26</td>\n",
       "      <td>277.2</td>\n",
       "      <td>28.49</td>\n",
       "      <td>11.876</td>\n",
       "      <td>8/9/19</td>\n",
       "      <td>2.398956</td>\n",
       "      <td>23.341192</td>\n",
       "      <td>0.876458</td>\n",
       "      <td>Friday</td>\n",
       "    </tr>\n",
       "    <tr>\n",
       "      <td>27</td>\n",
       "      <td>246.9</td>\n",
       "      <td>28.03</td>\n",
       "      <td>11.685</td>\n",
       "      <td>8/21/19</td>\n",
       "      <td>2.398802</td>\n",
       "      <td>21.129653</td>\n",
       "      <td>0.862362</td>\n",
       "      <td>Wednesday</td>\n",
       "    </tr>\n",
       "    <tr>\n",
       "      <td>28</td>\n",
       "      <td>241.2</td>\n",
       "      <td>26.88</td>\n",
       "      <td>11.590</td>\n",
       "      <td>8/30/19</td>\n",
       "      <td>2.319241</td>\n",
       "      <td>20.811044</td>\n",
       "      <td>0.855351</td>\n",
       "      <td>Friday</td>\n",
       "    </tr>\n",
       "  </tbody>\n",
       "</table>\n",
       "</div>"
      ],
      "text/plain": [
       "    miles  dollars  gallons     date  gal_cost        mpg  tank%_used  \\\n",
       "24  237.2    28.28   11.317  7/30/19  2.498895  20.959618    0.835203   \n",
       "25  241.7    28.27   11.312   8/6/19  2.499116  21.366690    0.834834   \n",
       "26  277.2    28.49   11.876   8/9/19  2.398956  23.341192    0.876458   \n",
       "27  246.9    28.03   11.685  8/21/19  2.398802  21.129653    0.862362   \n",
       "28  241.2    26.88   11.590  8/30/19  2.319241  20.811044    0.855351   \n",
       "\n",
       "          day  \n",
       "24    Tuesday  \n",
       "25    Tuesday  \n",
       "26     Friday  \n",
       "27  Wednesday  \n",
       "28     Friday  "
      ]
     },
     "execution_count": 5,
     "metadata": {},
     "output_type": "execute_result"
    }
   ],
   "source": [
    "df_c.tail()"
   ]
  },
  {
   "cell_type": "code",
   "execution_count": 7,
   "metadata": {},
   "outputs": [],
   "source": [
    "df_c = df_c.assign(id=('c'+df_c['date']))"
   ]
  },
  {
   "cell_type": "code",
   "execution_count": 11,
   "metadata": {},
   "outputs": [
    {
     "data": {
      "text/plain": [
       "0     1/15/19\n",
       "1     1/26/19\n",
       "2      2/2/19\n",
       "3     2/15/19\n",
       "4     2/23/19\n",
       "5     2/25/19\n",
       "6     3/14/19\n",
       "7     3/17/19\n",
       "8     3/22/19\n",
       "9     3/23/19\n",
       "10    3/25/19\n",
       "11    4/18/19\n",
       "12    4/21/19\n",
       "13     5/4/19\n",
       "14     5/6/19\n",
       "15    5/10/19\n",
       "16    5/11/19\n",
       "17    5/20/19\n",
       "18     6/2/19\n",
       "19    6/11/19\n",
       "20    6/21/19\n",
       "21    6/29/19\n",
       "22    7/10/19\n",
       "23    7/19/19\n",
       "24    7/30/19\n",
       "25     8/6/19\n",
       "26     8/9/19\n",
       "27    8/21/19\n",
       "28    8/30/19\n",
       "Name: date, dtype: object"
      ]
     },
     "execution_count": 11,
     "metadata": {},
     "output_type": "execute_result"
    }
   ],
   "source": [
    "df_c['date']"
   ]
  },
  {
   "cell_type": "code",
   "execution_count": null,
   "metadata": {},
   "outputs": [],
   "source": []
  }
 ],
 "metadata": {
  "kernelspec": {
   "display_name": "Python 3",
   "language": "python",
   "name": "python3"
  },
  "language_info": {
   "codemirror_mode": {
    "name": "ipython",
    "version": 3
   },
   "file_extension": ".py",
   "mimetype": "text/x-python",
   "name": "python",
   "nbconvert_exporter": "python",
   "pygments_lexer": "ipython3",
   "version": "3.7.4"
  }
 },
 "nbformat": 4,
 "nbformat_minor": 2
}
